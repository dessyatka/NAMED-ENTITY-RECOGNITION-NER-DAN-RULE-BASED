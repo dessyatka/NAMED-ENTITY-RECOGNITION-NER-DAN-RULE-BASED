{
 "cells": [
  {
   "cell_type": "code",
   "execution_count": 1,
   "metadata": {},
   "outputs": [],
   "source": [
    "from train_spacy import train_spacy\n",
    "from spacy import load, displacy"
   ]
  },
  {
   "cell_type": "code",
   "execution_count": 2,
   "metadata": {},
   "outputs": [],
   "source": [
    "# import model\n",
    "link_to_model = \"finalModel1\"\n",
    "loaded_model = load(link_to_model)"
   ]
  },
  {
   "cell_type": "code",
   "execution_count": 19,
   "metadata": {},
   "outputs": [],
   "source": [
    "test_text = 'KARAWANG, KOMPAS.com - Kasus Demam Berdarah Dengue (DBD) di Karawang pada April 2020 sebanyak 1.540 orang. Meningkat tiga kali lipat dari Maret 2020. Hal itu dikatakan Pelaksana tugas (Plt) Kepala Dinas Kesehatan Kabupaten Karawang Nanik Jojana. Ia mengatakan, kasus DBD di Karawang sepanjang Januari hingga April 2020 cenderung meningkat. \"Januari ada 18, Februari ada 47, Maret 45, dan April sangat tinggi,154. (Sementara) Mei saya belum tahu ada berapa tapi meninggal satu,\" kata Nanik di Posko Gugus Tugas Percepatan Penanganan Covid-19 Karawang, Senin (11/5/2020).'"
   ]
  },
  {
   "cell_type": "code",
   "execution_count": 20,
   "metadata": {},
   "outputs": [],
   "source": [
    "from entities_option import get_entity_options\n",
    "options = get_entity_options()"
   ]
  },
  {
   "cell_type": "code",
   "execution_count": 21,
   "metadata": {},
   "outputs": [
    {
     "data": {
      "text/html": [
       "<span class=\"tex2jax_ignore\"><div class=\"entities\" style=\"line-height: 2.5; direction: ltr\">\n",
       "<mark class=\"entity\" style=\"background: #F7DC6F; padding: 0.45em 0.6em; margin: 0 0.25em; line-height: 1; border-radius: 0.35em;\">\n",
       "    KARAWANG\n",
       "    <span style=\"font-size: 0.8em; font-weight: bold; line-height: 1; border-radius: 0.35em; text-transform: uppercase; vertical-align: middle; margin-left: 0.5rem\">lokasi</span>\n",
       "</mark>\n",
       ", KOMPAS.com - \n",
       "<mark class=\"entity\" style=\"background: #F9E79F; padding: 0.45em 0.6em; margin: 0 0.25em; line-height: 1; border-radius: 0.35em;\">\n",
       "    Kasus\n",
       "    <span style=\"font-size: 0.8em; font-weight: bold; line-height: 1; border-radius: 0.35em; text-transform: uppercase; vertical-align: middle; margin-left: 0.5rem\">korban</span>\n",
       "</mark>\n",
       " \n",
       "<mark class=\"entity\" style=\"background: #F4D03F; padding: 0.45em 0.6em; margin: 0 0.25em; line-height: 1; border-radius: 0.35em;\">\n",
       "    Demam Berdarah Dengue\n",
       "    <span style=\"font-size: 0.8em; font-weight: bold; line-height: 1; border-radius: 0.35em; text-transform: uppercase; vertical-align: middle; margin-left: 0.5rem\">penyakit</span>\n",
       "</mark>\n",
       " (\n",
       "<mark class=\"entity\" style=\"background: #F4D03F; padding: 0.45em 0.6em; margin: 0 0.25em; line-height: 1; border-radius: 0.35em;\">\n",
       "    DBD\n",
       "    <span style=\"font-size: 0.8em; font-weight: bold; line-height: 1; border-radius: 0.35em; text-transform: uppercase; vertical-align: middle; margin-left: 0.5rem\">penyakit</span>\n",
       "</mark>\n",
       ") di \n",
       "<mark class=\"entity\" style=\"background: #F7DC6F; padding: 0.45em 0.6em; margin: 0 0.25em; line-height: 1; border-radius: 0.35em;\">\n",
       "    Karawang\n",
       "    <span style=\"font-size: 0.8em; font-weight: bold; line-height: 1; border-radius: 0.35em; text-transform: uppercase; vertical-align: middle; margin-left: 0.5rem\">lokasi</span>\n",
       "</mark>\n",
       " pada April 2020 sebanyak \n",
       "<mark class=\"entity\" style=\"background: #F9E79F; padding: 0.45em 0.6em; margin: 0 0.25em; line-height: 1; border-radius: 0.35em;\">\n",
       "    1.540 orang\n",
       "    <span style=\"font-size: 0.8em; font-weight: bold; line-height: 1; border-radius: 0.35em; text-transform: uppercase; vertical-align: middle; margin-left: 0.5rem\">korban</span>\n",
       "</mark>\n",
       ". Meningkat tiga kali lipat dari Maret 2020. Hal itu dikatakan Pelaksana tugas (Plt) Kepala Dinas Kesehatan \n",
       "<mark class=\"entity\" style=\"background: #F7DC6F; padding: 0.45em 0.6em; margin: 0 0.25em; line-height: 1; border-radius: 0.35em;\">\n",
       "    Kabupaten Karawang\n",
       "    <span style=\"font-size: 0.8em; font-weight: bold; line-height: 1; border-radius: 0.35em; text-transform: uppercase; vertical-align: middle; margin-left: 0.5rem\">lokasi</span>\n",
       "</mark>\n",
       " Nanik Jojana. Ia mengatakan, \n",
       "<mark class=\"entity\" style=\"background: #F9E79F; padding: 0.45em 0.6em; margin: 0 0.25em; line-height: 1; border-radius: 0.35em;\">\n",
       "    kasus\n",
       "    <span style=\"font-size: 0.8em; font-weight: bold; line-height: 1; border-radius: 0.35em; text-transform: uppercase; vertical-align: middle; margin-left: 0.5rem\">korban</span>\n",
       "</mark>\n",
       " \n",
       "<mark class=\"entity\" style=\"background: #F4D03F; padding: 0.45em 0.6em; margin: 0 0.25em; line-height: 1; border-radius: 0.35em;\">\n",
       "    DBD\n",
       "    <span style=\"font-size: 0.8em; font-weight: bold; line-height: 1; border-radius: 0.35em; text-transform: uppercase; vertical-align: middle; margin-left: 0.5rem\">penyakit</span>\n",
       "</mark>\n",
       " di \n",
       "<mark class=\"entity\" style=\"background: #F7DC6F; padding: 0.45em 0.6em; margin: 0 0.25em; line-height: 1; border-radius: 0.35em;\">\n",
       "    Karawang\n",
       "    <span style=\"font-size: 0.8em; font-weight: bold; line-height: 1; border-radius: 0.35em; text-transform: uppercase; vertical-align: middle; margin-left: 0.5rem\">lokasi</span>\n",
       "</mark>\n",
       " sepanjang Januari hingga April 2020 cenderung meningkat. &quot;Januari ada \n",
       "<mark class=\"entity\" style=\"background: #F9E79F; padding: 0.45em 0.6em; margin: 0 0.25em; line-height: 1; border-radius: 0.35em;\">\n",
       "    18\n",
       "    <span style=\"font-size: 0.8em; font-weight: bold; line-height: 1; border-radius: 0.35em; text-transform: uppercase; vertical-align: middle; margin-left: 0.5rem\">korban</span>\n",
       "</mark>\n",
       ", Februari ada \n",
       "<mark class=\"entity\" style=\"background: #F9E79F; padding: 0.45em 0.6em; margin: 0 0.25em; line-height: 1; border-radius: 0.35em;\">\n",
       "    47\n",
       "    <span style=\"font-size: 0.8em; font-weight: bold; line-height: 1; border-radius: 0.35em; text-transform: uppercase; vertical-align: middle; margin-left: 0.5rem\">korban</span>\n",
       "</mark>\n",
       ", Maret \n",
       "<mark class=\"entity\" style=\"background: #F9E79F; padding: 0.45em 0.6em; margin: 0 0.25em; line-height: 1; border-radius: 0.35em;\">\n",
       "    45\n",
       "    <span style=\"font-size: 0.8em; font-weight: bold; line-height: 1; border-radius: 0.35em; text-transform: uppercase; vertical-align: middle; margin-left: 0.5rem\">korban</span>\n",
       "</mark>\n",
       ", dan April sangat tinggi,154. (Sementara) Mei saya belum tahu ada berapa tapi meninggal satu,&quot; kata Nanik di Posko Gugus Tugas Percepatan Penanganan Covid-19 \n",
       "<mark class=\"entity\" style=\"background: #F7DC6F; padding: 0.45em 0.6em; margin: 0 0.25em; line-height: 1; border-radius: 0.35em;\">\n",
       "    Karawang\n",
       "    <span style=\"font-size: 0.8em; font-weight: bold; line-height: 1; border-radius: 0.35em; text-transform: uppercase; vertical-align: middle; margin-left: 0.5rem\">lokasi</span>\n",
       "</mark>\n",
       ", Senin (\n",
       "<mark class=\"entity\" style=\"background: #FAD7A0; padding: 0.45em 0.6em; margin: 0 0.25em; line-height: 1; border-radius: 0.35em;\">\n",
       "    11/5/2020\n",
       "    <span style=\"font-size: 0.8em; font-weight: bold; line-height: 1; border-radius: 0.35em; text-transform: uppercase; vertical-align: middle; margin-left: 0.5rem\">waktu</span>\n",
       "</mark>\n",
       ").</div></span>"
      ],
      "text/plain": [
       "<IPython.core.display.HTML object>"
      ]
     },
     "metadata": {},
     "output_type": "display_data"
    }
   ],
   "source": [
    "doc = loaded_model(test_text)\n",
    "displacy.render(doc, style=\"ent\", options = options)"
   ]
  },
  {
   "cell_type": "code",
   "execution_count": 22,
   "metadata": {},
   "outputs": [
    {
     "name": "stdout",
     "output_type": "stream",
     "text": [
      "KARAWANG 0 8 lokasi\n",
      "Kasus 23 28 korban\n",
      "Demam Berdarah Dengue 29 50 penyakit\n",
      "DBD 52 55 penyakit\n",
      "Karawang 60 68 lokasi\n",
      "1.540 orang 94 105 korban\n",
      "Kabupaten Karawang 213 231 lokasi\n",
      "kasus 261 266 korban\n",
      "DBD 267 270 penyakit\n",
      "Karawang 274 282 lokasi\n",
      "18 353 355 korban\n",
      "47 370 372 korban\n",
      "45 380 382 korban\n",
      "Karawang 541 549 lokasi\n",
      "11/5/2020 558 567 waktu\n",
      "\n",
      " =============== \n",
      "\n",
      "\n",
      "ini lokasi\n",
      " ['karawang', 'kabupaten karawang']\n",
      "\n",
      "ini korban\n",
      " ['kasus', '1.540 orang', '18', '47', '45']\n",
      "\n",
      "ini penyakit\n",
      " ['demam berdarah dengue', 'dbd']\n",
      "\n",
      "ini waktu\n",
      " ['11/5/2020']\n"
     ]
    }
   ],
   "source": [
    "for ent in doc.ents:\n",
    "    print(ent.text, ent.start_char, ent.end_char, ent.label_)\n",
    "\n",
    "print(\"\\n =============== \\n\")\n",
    "lokasi = [] \n",
    "korban = []\n",
    "penyakit = []\n",
    "waktu = []\n",
    "for ent in doc.ents:\n",
    "    x = ent.text\n",
    "    if ent.label_ == \"lokasi\" and x.lower() not in lokasi:\n",
    "        lokasi.append(x.lower())\n",
    "    elif ent.label_ == \"korban\" and x.lower() not in korban:\n",
    "        korban.append(x.lower())\n",
    "    elif ent.label_ == \"penyakit\" and x.lower() not in penyakit:\n",
    "        penyakit.append(x.lower())\n",
    "    elif ent.label_ == \"waktu\" and x.lower() not in waktu:\n",
    "        waktu.append(x.lower())\n",
    "\n",
    "print(\"\\nini lokasi\\n\", lokasi)\n",
    "print(\"\\nini korban\\n\", korban)\n",
    "print(\"\\nini penyakit\\n\", penyakit)\n",
    "print(\"\\nini waktu\\n\", waktu)\n"
   ]
  },
  {
   "cell_type": "code",
   "execution_count": 42,
   "metadata": {},
   "outputs": [
    {
     "name": "stdout",
     "output_type": "stream",
     "text": [
      "ok\n",
      "kasus 1.540 orang 18 47 45\n",
      "['1540', '18', '47', '45']\n",
      "1650\n",
      "karawang demam berdarah dengue ['11/5/2020'] 1650\n",
      "karawang dbd ['11/5/2020'] 1650\n",
      "kabupaten karawang demam berdarah dengue ['11/5/2020'] 1650\n",
      "kabupaten karawang dbd ['11/5/2020'] 1650\n"
     ]
    }
   ],
   "source": [
    "import re\n",
    "if len(lokasi) > 0 and len(korban) > 0 and len(penyakit) > 0 and len(waktu) > 0:\n",
    "    print('ok')\n",
    "    #sum total korban \n",
    "    strKorban = ' '.join(korban)\n",
    "    print(strKorban)\n",
    "    strKorban = strKorban.replace('.', '')\n",
    "    digits = re.findall(r'\\d+', strKorban)\n",
    "    print(digits)\n",
    "    totalSum = 0\n",
    "    for digit in digits:\n",
    "        totalSum += int(digit)\n",
    "    print(sum)\n",
    "    if len(waktu) is 1:\n",
    "        for loc in lokasi:\n",
    "            for disease in penyakit:\n",
    "                print(loc, disease, waktu, totalSum)\n",
    "else :\n",
    "    print('not ok')\n",
    "    "
   ]
  },
  {
   "cell_type": "code",
   "execution_count": 44,
   "metadata": {},
   "outputs": [
    {
     "name": "stdout",
     "output_type": "stream",
     "text": [
      "karawang\n"
     ]
    }
   ],
   "source": [
    "import pandas as pd\n",
    "df_location = pd.read_csv('output/df_location_newest.csv')\n",
    "\n",
    "arrayOfLatitude=[]\n",
    "arrayOfLongitude=[]\n",
    "arrayOfDistrict=[]\n",
    "\n",
    "districts = df_location['district'].values.tolist()\n",
    "for district in districts:\n",
    "    if district.lower() in lokasi:\n",
    "        print(district)\n",
    "        latitude = df_location[df_location['district']==district]['latitude'].values.tolist()[0]\n",
    "        longitude = df_location[df_location['district']==district]['longitude'].values.tolist()[0]\n",
    "        arrayOfLatitude.append(latitude)\n",
    "        arrayOfLongitude.append(longitude)\n",
    "        arrayOfDistrict.append(district)"
   ]
  }
 ],
 "metadata": {
  "kernelspec": {
   "display_name": "Python 3",
   "language": "python",
   "name": "python3"
  },
  "language_info": {
   "codemirror_mode": {
    "name": "ipython",
    "version": 3
   },
   "file_extension": ".py",
   "mimetype": "text/x-python",
   "name": "python",
   "nbconvert_exporter": "python",
   "pygments_lexer": "ipython3",
   "version": "3.6.9"
  }
 },
 "nbformat": 4,
 "nbformat_minor": 4
}
