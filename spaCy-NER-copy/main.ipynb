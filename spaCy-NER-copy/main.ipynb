{
 "cells": [
  {
   "cell_type": "markdown",
   "metadata": {
    "colab_type": "text",
    "id": "7VfCAE4LzOaP"
   },
   "source": [
    "# Data Preparation"
   ]
  },
  {
   "cell_type": "code",
   "execution_count": 1,
   "metadata": {
    "colab": {},
    "colab_type": "code",
    "executionInfo": {
     "elapsed": 2694,
     "status": "ok",
     "timestamp": 1599572019227,
     "user": {
      "displayName": "Reza Dwi Utomo",
      "photoUrl": "https://lh3.googleusercontent.com/a-/AOh14GjuLhy_JmgD4iWFIjOE-G6ClGlqtizVTS9lhAZQ=s64",
      "userId": "08330585941225764736"
     },
     "user_tz": -420
    },
    "id": "cUUu_lkTzxD3"
   },
   "outputs": [],
   "source": [
    "# import necessary libraries to get the data\n",
    "# import requests\n",
    "# import html5lib\n",
    "# from bs4 import BeautifulSoup as bs\n",
    "from nltk.tokenize import sent_tokenize\n",
    "import pandas as pd"
   ]
  },
  {
   "cell_type": "code",
   "execution_count": 14,
   "metadata": {
    "colab": {
     "base_uri": "https://localhost:8080/",
     "height": 68
    },
    "colab_type": "code",
    "executionInfo": {
     "elapsed": 2406,
     "status": "ok",
     "timestamp": 1599572026053,
     "user": {
      "displayName": "Reza Dwi Utomo",
      "photoUrl": "https://lh3.googleusercontent.com/a-/AOh14GjuLhy_JmgD4iWFIjOE-G6ClGlqtizVTS9lhAZQ=s64",
      "userId": "08330585941225764736"
     },
     "user_tz": -420
    },
    "id": "sMDUk-FAw3n2",
    "outputId": "3fe3abfd-8ffc-4a12-e5d5-d47eabd0c42b"
   },
   "outputs": [
    {
     "name": "stderr",
     "output_type": "stream",
     "text": [
      "[nltk_data] Downloading package punkt to /home/flaster/nltk_data...\n",
      "[nltk_data]   Package punkt is already up-to-date!\n"
     ]
    },
    {
     "data": {
      "text/plain": [
       "True"
      ]
     },
     "execution_count": 14,
     "metadata": {},
     "output_type": "execute_result"
    }
   ],
   "source": [
    "# in case we need to download NLTK punctuations\n",
    "import nltk\n",
    "nltk.download('punkt')"
   ]
  },
  {
   "cell_type": "markdown",
   "metadata": {
    "colab_type": "text",
    "id": "gDOWODmozWpC"
   },
   "source": [
    "# Data Preprocessing"
   ]
  },
  {
   "cell_type": "code",
   "execution_count": 4,
   "metadata": {
    "colab": {},
    "colab_type": "code",
    "executionInfo": {
     "elapsed": 780,
     "status": "ok",
     "timestamp": 1599575850058,
     "user": {
      "displayName": "Reza Dwi Utomo",
      "photoUrl": "https://lh3.googleusercontent.com/a-/AOh14GjuLhy_JmgD4iWFIjOE-G6ClGlqtizVTS9lhAZQ=s64",
      "userId": "08330585941225764736"
     },
     "user_tz": -420
    },
    "id": "Na_i03UjIfLf"
   },
   "outputs": [],
   "source": [
    "text_ready = '''SUMEDANG, KOMPAS.com - Kasus Demam Berdarah Dengue ( DBD) di Kabupaten Sumedang, Jawa Barat, lebih tinggi dari kasus virus corona atau Covid-19. Data dari Dinas Kesehatan Kabupaten Sumedang, sejak Januari hingga April 2020, tercatat sudah ada 254 kasus DBD, dengan dua kematian. Sedangkan, kasus Covid-19 di Kabupaten Sumedang, hingga saat ini, Minggu (30/5/2020), sumedang ada 12 kasus, dengan nol kematian. Kepala Bidang Pengendalian dan Pemberantasan Penyakit (P2P) Dinas Kesehatan Kabupaten Sumedang dr. Reny K Anton mengatakan, kasus DBD tertinggi terjadi pada Maret dengan 114 kasus. \"Sebelumnya pada Februari ada 2 orang meninggal dunia karena DBD,\" ujar Reny kepada Kompas.com melalui pesan singkat, Minggu (31/5/2020). Reny menuturkan, kasus DBD paling tinggi terdapat di tiga wilayah kecamatan yaitu di Sumedang Selatan, Tanjungsari, dan Jatinangor. Reny menyebutkan, Dinas Kesehatan Kabupaten Sumedang terus berupaya menurunkan angka kematian akibat DBD ini.\n",
    "'''"
   ]
  },
  {
   "cell_type": "code",
   "execution_count": 5,
   "metadata": {
    "colab": {
     "base_uri": "https://localhost:8080/",
     "height": 137
    },
    "colab_type": "code",
    "executionInfo": {
     "elapsed": 881,
     "status": "ok",
     "timestamp": 1599575767045,
     "user": {
      "displayName": "Reza Dwi Utomo",
      "photoUrl": "https://lh3.googleusercontent.com/a-/AOh14GjuLhy_JmgD4iWFIjOE-G6ClGlqtizVTS9lhAZQ=s64",
      "userId": "08330585941225764736"
     },
     "user_tz": -420
    },
    "id": "VsbI6UiK8bDE",
    "outputId": "7d1efa00-2578-4028-ef17-d386d7da5ede"
   },
   "outputs": [
    {
     "data": {
      "text/plain": [
       "'SUMEDANG, KOMPAS.com - Kasus Demam Berdarah Dengue ( DBD) di Kabupaten Sumedang, Jawa Barat, lebih tinggi dari kasus virus corona atau Covid-19. Data dari Dinas Kesehatan Kabupaten Sumedang, sejak Januari hingga April 2020, tercatat sudah ada 254 kasus DBD, dengan dua kematian. Sedangkan, kasus Covid-19 di Kabupaten Sumedang, hingga saat ini, Minggu (30/5/2020), sumedang ada 12 kasus, dengan nol kematian. Kepala Bidang Pengendalian dan Pemberantasan Penyakit (P2P) Dinas Kesehatan Kabupaten Sumedang dr. Reny K Anton mengatakan, kasus DBD tertinggi terjadi pada Maret dengan 114 kasus. \"Sebelumnya pada Februari ada 2 orang meninggal dunia karena DBD,\" ujar Reny kepada Kompas.com melalui pesan singkat, Minggu (31/5/2020). Reny menuturkan, kasus DBD paling tinggi terdapat di tiga wilayah kecamatan yaitu di Sumedang Selatan, Tanjungsari, dan Jatinangor. Reny menyebutkan, Dinas Kesehatan Kabupaten Sumedang terus berupaya menurunkan angka kematian akibat DBD ini.\\n'"
      ]
     },
     "execution_count": 5,
     "metadata": {},
     "output_type": "execute_result"
    }
   ],
   "source": [
    "text_ready"
   ]
  },
  {
   "cell_type": "markdown",
   "metadata": {
    "colab_type": "text",
    "id": "Alalk64kznHB"
   },
   "source": [
    "# Labelling"
   ]
  },
  {
   "cell_type": "code",
   "execution_count": 2,
   "metadata": {
    "colab": {
     "base_uri": "https://localhost:8080/",
     "height": 34
    },
    "colab_type": "code",
    "executionInfo": {
     "elapsed": 749,
     "status": "ok",
     "timestamp": 1599576129762,
     "user": {
      "displayName": "Reza Dwi Utomo",
      "photoUrl": "https://lh3.googleusercontent.com/a-/AOh14GjuLhy_JmgD4iWFIjOE-G6ClGlqtizVTS9lhAZQ=s64",
      "userId": "08330585941225764736"
     },
     "user_tz": -420
    },
    "id": "Da9vGVnYx3iB",
    "outputId": "380a7f70-c900-4716-d474-de03b7de023a"
   },
   "outputs": [
    {
     "data": {
      "text/plain": [
       "['korban', 'lokasi', 'penyakit', 'waktu']"
      ]
     },
     "execution_count": 2,
     "metadata": {},
     "output_type": "execute_result"
    }
   ],
   "source": [
    "annotations = sorted(['lokasi', 'penyakit', 'waktu', 'korban'])\n",
    "annotations"
   ]
  },
  {
   "cell_type": "code",
   "execution_count": 3,
   "metadata": {
    "colab": {},
    "colab_type": "code",
    "executionInfo": {
     "elapsed": 1092,
     "status": "ok",
     "timestamp": 1599573306255,
     "user": {
      "displayName": "Reza Dwi Utomo",
      "photoUrl": "https://lh3.googleusercontent.com/a-/AOh14GjuLhy_JmgD4iWFIjOE-G6ClGlqtizVTS9lhAZQ=s64",
      "userId": "08330585941225764736"
     },
     "user_tz": -420
    },
    "id": "rtcnHzEpx4FN"
   },
   "outputs": [],
   "source": [
    "from BIOtagging import text_to_tagReadyDF, convert_to_spaCyformat"
   ]
  },
  {
   "cell_type": "code",
   "execution_count": 4,
   "metadata": {
    "colab": {
     "base_uri": "https://localhost:8080/",
     "height": 34
    },
    "colab_type": "code",
    "executionInfo": {
     "elapsed": 875,
     "status": "ok",
     "timestamp": 1599575864071,
     "user": {
      "displayName": "Reza Dwi Utomo",
      "photoUrl": "https://lh3.googleusercontent.com/a-/AOh14GjuLhy_JmgD4iWFIjOE-G6ClGlqtizVTS9lhAZQ=s64",
      "userId": "08330585941225764736"
     },
     "user_tz": -420
    },
    "id": "9Em9QeI7x4V4",
    "outputId": "7e541643-03be-4aa0-8b9f-0bc68430bf3e"
   },
   "outputs": [
    {
     "name": "stderr",
     "output_type": "stream",
     "text": [
      "99it [00:07, 12.59it/s]\n"
     ]
    }
   ],
   "source": [
    "tagready_df = text_to_tagReadyDF('labeldata_evaluate.csv')"
   ]
  },
  {
   "cell_type": "code",
   "execution_count": 5,
   "metadata": {
    "colab": {
     "base_uri": "https://localhost:8080/",
     "height": 221
    },
    "colab_type": "code",
    "executionInfo": {
     "elapsed": 826,
     "status": "ok",
     "timestamp": 1599575866655,
     "user": {
      "displayName": "Reza Dwi Utomo",
      "photoUrl": "https://lh3.googleusercontent.com/a-/AOh14GjuLhy_JmgD4iWFIjOE-G6ClGlqtizVTS9lhAZQ=s64",
      "userId": "08330585941225764736"
     },
     "user_tz": -420
    },
    "id": "gE1v_VCdx3yM",
    "outputId": "476f9109-4947-4ccd-fbbf-5f5f15d54eee"
   },
   "outputs": [
    {
     "name": "stdout",
     "output_type": "stream",
     "text": [
      "(1068, 198)\n"
     ]
    },
    {
     "data": {
      "text/html": [
       "<div>\n",
       "<style scoped>\n",
       "    .dataframe tbody tr th:only-of-type {\n",
       "        vertical-align: middle;\n",
       "    }\n",
       "\n",
       "    .dataframe tbody tr th {\n",
       "        vertical-align: top;\n",
       "    }\n",
       "\n",
       "    .dataframe thead th {\n",
       "        text-align: right;\n",
       "    }\n",
       "</style>\n",
       "<table border=\"1\" class=\"dataframe\">\n",
       "  <thead>\n",
       "    <tr style=\"text-align: right;\">\n",
       "      <th></th>\n",
       "      <th>token_0</th>\n",
       "      <th>BIO_tag_0</th>\n",
       "      <th>token_1</th>\n",
       "      <th>BIO_tag_1</th>\n",
       "      <th>token_2</th>\n",
       "      <th>BIO_tag_2</th>\n",
       "      <th>token_3</th>\n",
       "      <th>BIO_tag_3</th>\n",
       "      <th>token_4</th>\n",
       "      <th>BIO_tag_4</th>\n",
       "      <th>...</th>\n",
       "      <th>token_94</th>\n",
       "      <th>BIO_tag_94</th>\n",
       "      <th>token_95</th>\n",
       "      <th>BIO_tag_95</th>\n",
       "      <th>token_96</th>\n",
       "      <th>BIO_tag_96</th>\n",
       "      <th>token_97</th>\n",
       "      <th>BIO_tag_97</th>\n",
       "      <th>token_98</th>\n",
       "      <th>BIO_tag_98</th>\n",
       "    </tr>\n",
       "  </thead>\n",
       "  <tbody>\n",
       "    <tr>\n",
       "      <th>0</th>\n",
       "      <td>SEMARANG</td>\n",
       "      <td></td>\n",
       "      <td>ENDE</td>\n",
       "      <td></td>\n",
       "      <td>SEMARANG</td>\n",
       "      <td></td>\n",
       "      <td>BEKASI</td>\n",
       "      <td></td>\n",
       "      <td>BOGOR</td>\n",
       "      <td></td>\n",
       "      <td>...</td>\n",
       "      <td>BANGKALAN</td>\n",
       "      <td></td>\n",
       "      <td>TANGERANG</td>\n",
       "      <td></td>\n",
       "      <td>SURABAYA</td>\n",
       "      <td></td>\n",
       "      <td>Di</td>\n",
       "      <td>O</td>\n",
       "      <td>MEDAN</td>\n",
       "      <td></td>\n",
       "    </tr>\n",
       "    <tr>\n",
       "      <th>1</th>\n",
       "      <td>,</td>\n",
       "      <td>O</td>\n",
       "      <td>,</td>\n",
       "      <td>O</td>\n",
       "      <td>,</td>\n",
       "      <td>O</td>\n",
       "      <td>,</td>\n",
       "      <td>O</td>\n",
       "      <td>,</td>\n",
       "      <td>O</td>\n",
       "      <td>...</td>\n",
       "      <td>,</td>\n",
       "      <td>O</td>\n",
       "      <td>,</td>\n",
       "      <td>O</td>\n",
       "      <td>,</td>\n",
       "      <td>O</td>\n",
       "      <td></td>\n",
       "      <td>O</td>\n",
       "      <td>,</td>\n",
       "      <td>O</td>\n",
       "    </tr>\n",
       "    <tr>\n",
       "      <th>2</th>\n",
       "      <td></td>\n",
       "      <td>O</td>\n",
       "      <td></td>\n",
       "      <td>O</td>\n",
       "      <td></td>\n",
       "      <td>O</td>\n",
       "      <td></td>\n",
       "      <td>O</td>\n",
       "      <td></td>\n",
       "      <td>O</td>\n",
       "      <td>...</td>\n",
       "      <td></td>\n",
       "      <td>O</td>\n",
       "      <td></td>\n",
       "      <td>O</td>\n",
       "      <td></td>\n",
       "      <td>O</td>\n",
       "      <td>Jawa</td>\n",
       "      <td></td>\n",
       "      <td></td>\n",
       "      <td>O</td>\n",
       "    </tr>\n",
       "    <tr>\n",
       "      <th>3</th>\n",
       "      <td>KOMPAS.com</td>\n",
       "      <td></td>\n",
       "      <td>KOMPAS.com</td>\n",
       "      <td></td>\n",
       "      <td>KOMPAS.com</td>\n",
       "      <td></td>\n",
       "      <td>KOMPAS.com</td>\n",
       "      <td></td>\n",
       "      <td>KOMPAS.com</td>\n",
       "      <td></td>\n",
       "      <td>...</td>\n",
       "      <td>KOMPAS.com</td>\n",
       "      <td></td>\n",
       "      <td>KOMPAS.com</td>\n",
       "      <td></td>\n",
       "      <td>KOMPAS.com</td>\n",
       "      <td></td>\n",
       "      <td></td>\n",
       "      <td>O</td>\n",
       "      <td>KOMPAS.com</td>\n",
       "      <td></td>\n",
       "    </tr>\n",
       "    <tr>\n",
       "      <th>4</th>\n",
       "      <td></td>\n",
       "      <td>O</td>\n",
       "      <td></td>\n",
       "      <td>O</td>\n",
       "      <td></td>\n",
       "      <td>O</td>\n",
       "      <td></td>\n",
       "      <td>O</td>\n",
       "      <td></td>\n",
       "      <td>O</td>\n",
       "      <td>...</td>\n",
       "      <td></td>\n",
       "      <td>O</td>\n",
       "      <td></td>\n",
       "      <td>O</td>\n",
       "      <td></td>\n",
       "      <td>O</td>\n",
       "      <td>Timur</td>\n",
       "      <td></td>\n",
       "      <td></td>\n",
       "      <td>O</td>\n",
       "    </tr>\n",
       "  </tbody>\n",
       "</table>\n",
       "<p>5 rows × 198 columns</p>\n",
       "</div>"
      ],
      "text/plain": [
       "      token_0 BIO_tag_0     token_1 BIO_tag_1     token_2 BIO_tag_2  \\\n",
       "0    SEMARANG                  ENDE              SEMARANG             \n",
       "1           ,         O           ,         O           ,         O   \n",
       "2                     O                     O                     O   \n",
       "3  KOMPAS.com            KOMPAS.com            KOMPAS.com             \n",
       "4                     O                     O                     O   \n",
       "\n",
       "      token_3 BIO_tag_3     token_4 BIO_tag_4  ...    token_94 BIO_tag_94  \\\n",
       "0      BEKASI                 BOGOR            ...   BANGKALAN              \n",
       "1           ,         O           ,         O  ...           ,          O   \n",
       "2                     O                     O  ...                      O   \n",
       "3  KOMPAS.com            KOMPAS.com            ...  KOMPAS.com              \n",
       "4                     O                     O  ...                      O   \n",
       "\n",
       "     token_95 BIO_tag_95    token_96 BIO_tag_96 token_97 BIO_tag_97  \\\n",
       "0   TANGERANG               SURABAYA                  Di          O   \n",
       "1           ,          O           ,          O                   O   \n",
       "2                      O                      O     Jawa              \n",
       "3  KOMPAS.com             KOMPAS.com                              O   \n",
       "4                      O                      O    Timur              \n",
       "\n",
       "     token_98 BIO_tag_98  \n",
       "0       MEDAN             \n",
       "1           ,          O  \n",
       "2                      O  \n",
       "3  KOMPAS.com             \n",
       "4                      O  \n",
       "\n",
       "[5 rows x 198 columns]"
      ]
     },
     "execution_count": 5,
     "metadata": {},
     "output_type": "execute_result"
    }
   ],
   "source": [
    "print(tagready_df.shape)\n",
    "tagready_df.head()"
   ]
  },
  {
   "cell_type": "code",
   "execution_count": 6,
   "metadata": {
    "colab": {},
    "colab_type": "code",
    "executionInfo": {
     "elapsed": 1208,
     "status": "ok",
     "timestamp": 1599574162367,
     "user": {
      "displayName": "Reza Dwi Utomo",
      "photoUrl": "https://lh3.googleusercontent.com/a-/AOh14GjuLhy_JmgD4iWFIjOE-G6ClGlqtizVTS9lhAZQ=s64",
      "userId": "08330585941225764736"
     },
     "user_tz": -420
    },
    "id": "eT93dp7Xx3DH"
   },
   "outputs": [],
   "source": [
    "link_for_save = \"labeldata_evaluate_ready_to_tagged.csv\"\n",
    "tagready_df.to_csv(link_for_save, index=False)"
   ]
  },
  {
   "cell_type": "code",
   "execution_count": 4,
   "metadata": {
    "colab": {},
    "colab_type": "code",
    "executionInfo": {
     "elapsed": 1625,
     "status": "ok",
     "timestamp": 1599576045692,
     "user": {
      "displayName": "Reza Dwi Utomo",
      "photoUrl": "https://lh3.googleusercontent.com/a-/AOh14GjuLhy_JmgD4iWFIjOE-G6ClGlqtizVTS9lhAZQ=s64",
      "userId": "08330585941225764736"
     },
     "user_tz": -420
    },
    "id": "14YmxEdEBtuN"
   },
   "outputs": [],
   "source": [
    "# import BIO-tagged csv file\n",
    "link_BIOtagged_file = \"labeldata_evaluate_tagged_done_lite_10.csv\"\n",
    "df_tagged = pd.read_csv(link_BIOtagged_file)"
   ]
  },
  {
   "cell_type": "code",
   "execution_count": 5,
   "metadata": {
    "colab": {
     "base_uri": "https://localhost:8080/",
     "height": 221
    },
    "colab_type": "code",
    "executionInfo": {
     "elapsed": 882,
     "status": "ok",
     "timestamp": 1599576048153,
     "user": {
      "displayName": "Reza Dwi Utomo",
      "photoUrl": "https://lh3.googleusercontent.com/a-/AOh14GjuLhy_JmgD4iWFIjOE-G6ClGlqtizVTS9lhAZQ=s64",
      "userId": "08330585941225764736"
     },
     "user_tz": -420
    },
    "id": "5U-fvrAxCE4e",
    "outputId": "d74879ef-96b9-44b8-9d79-8755171f47a8"
   },
   "outputs": [
    {
     "name": "stdout",
     "output_type": "stream",
     "text": [
      "(661, 10)\n"
     ]
    },
    {
     "data": {
      "text/html": [
       "<div>\n",
       "<style scoped>\n",
       "    .dataframe tbody tr th:only-of-type {\n",
       "        vertical-align: middle;\n",
       "    }\n",
       "\n",
       "    .dataframe tbody tr th {\n",
       "        vertical-align: top;\n",
       "    }\n",
       "\n",
       "    .dataframe thead th {\n",
       "        text-align: right;\n",
       "    }\n",
       "</style>\n",
       "<table border=\"1\" class=\"dataframe\">\n",
       "  <thead>\n",
       "    <tr style=\"text-align: right;\">\n",
       "      <th></th>\n",
       "      <th>token_0</th>\n",
       "      <th>BIO_tag_0</th>\n",
       "      <th>token_1</th>\n",
       "      <th>BIO_tag_1</th>\n",
       "      <th>token_2</th>\n",
       "      <th>BIO_tag_2</th>\n",
       "      <th>token_3</th>\n",
       "      <th>BIO_tag_3</th>\n",
       "      <th>token_4</th>\n",
       "      <th>BIO_tag_4</th>\n",
       "    </tr>\n",
       "  </thead>\n",
       "  <tbody>\n",
       "    <tr>\n",
       "      <th>0</th>\n",
       "      <td>SEMARANG</td>\n",
       "      <td>b-lokasi</td>\n",
       "      <td>ENDE</td>\n",
       "      <td>b-lokasi</td>\n",
       "      <td>SEMARANG</td>\n",
       "      <td>b-lokasi</td>\n",
       "      <td>BEKASI</td>\n",
       "      <td>b-lokasi</td>\n",
       "      <td>BOGOR</td>\n",
       "      <td>b-lokasi</td>\n",
       "    </tr>\n",
       "    <tr>\n",
       "      <th>1</th>\n",
       "      <td>,</td>\n",
       "      <td>O</td>\n",
       "      <td>,</td>\n",
       "      <td>O</td>\n",
       "      <td>,</td>\n",
       "      <td>O</td>\n",
       "      <td>,</td>\n",
       "      <td>O</td>\n",
       "      <td>,</td>\n",
       "      <td>O</td>\n",
       "    </tr>\n",
       "    <tr>\n",
       "      <th>2</th>\n",
       "      <td></td>\n",
       "      <td>O</td>\n",
       "      <td></td>\n",
       "      <td>O</td>\n",
       "      <td></td>\n",
       "      <td>O</td>\n",
       "      <td></td>\n",
       "      <td>O</td>\n",
       "      <td></td>\n",
       "      <td>O</td>\n",
       "    </tr>\n",
       "    <tr>\n",
       "      <th>3</th>\n",
       "      <td>KOMPAS.com</td>\n",
       "      <td>O</td>\n",
       "      <td>KOMPAS.com</td>\n",
       "      <td>O</td>\n",
       "      <td>KOMPAS.com</td>\n",
       "      <td>O</td>\n",
       "      <td>KOMPAS.com</td>\n",
       "      <td>O</td>\n",
       "      <td>KOMPAS.com</td>\n",
       "      <td>O</td>\n",
       "    </tr>\n",
       "    <tr>\n",
       "      <th>4</th>\n",
       "      <td></td>\n",
       "      <td>O</td>\n",
       "      <td></td>\n",
       "      <td>O</td>\n",
       "      <td></td>\n",
       "      <td>O</td>\n",
       "      <td></td>\n",
       "      <td>O</td>\n",
       "      <td></td>\n",
       "      <td>O</td>\n",
       "    </tr>\n",
       "  </tbody>\n",
       "</table>\n",
       "</div>"
      ],
      "text/plain": [
       "      token_0 BIO_tag_0     token_1 BIO_tag_1     token_2 BIO_tag_2  \\\n",
       "0    SEMARANG  b-lokasi        ENDE  b-lokasi    SEMARANG  b-lokasi   \n",
       "1           ,         O           ,         O           ,         O   \n",
       "2                     O                     O                     O   \n",
       "3  KOMPAS.com         O  KOMPAS.com         O  KOMPAS.com         O   \n",
       "4                     O                     O                     O   \n",
       "\n",
       "      token_3 BIO_tag_3     token_4 BIO_tag_4  \n",
       "0      BEKASI  b-lokasi       BOGOR  b-lokasi  \n",
       "1           ,         O           ,         O  \n",
       "2                     O                     O  \n",
       "3  KOMPAS.com         O  KOMPAS.com         O  \n",
       "4                     O                     O  "
      ]
     },
     "execution_count": 5,
     "metadata": {},
     "output_type": "execute_result"
    }
   ],
   "source": [
    "print(df_tagged.shape)\n",
    "df_tagged.head()\n",
    "# bool_series = pd.isnull(df_tagged[\"token_0\"])\n",
    "# df_tagged[bool_series]"
   ]
  },
  {
   "cell_type": "code",
   "execution_count": 6,
   "metadata": {
    "colab": {},
    "colab_type": "code",
    "executionInfo": {
     "elapsed": 849,
     "status": "ok",
     "timestamp": 1599576138367,
     "user": {
      "displayName": "Reza Dwi Utomo",
      "photoUrl": "https://lh3.googleusercontent.com/a-/AOh14GjuLhy_JmgD4iWFIjOE-G6ClGlqtizVTS9lhAZQ=s64",
      "userId": "08330585941225764736"
     },
     "user_tz": -420
    },
    "id": "2AoncXF-x2eW"
   },
   "outputs": [
    {
     "name": "stdout",
     "output_type": "stream",
     "text": [
      "start1 0\n",
      "start1 39\n",
      "start1 64\n",
      "start1 76\n",
      "start1 135\n",
      "start1 425\n",
      "start1 447\n",
      "start1 471\n",
      "start1 483\n",
      "start1 579\n",
      "start1 614\n",
      "start1 650\n",
      "start1 671\n",
      "start1 703\n",
      "start1 724\n",
      "start1 761\n",
      "start1 829\n",
      "start1 861\n",
      "start1 932\n",
      "start1 992\n",
      "start1 1039\n",
      "start1 1129\n",
      "start1 1166\n",
      "start1 1300\n"
     ]
    }
   ],
   "source": [
    "train_data = convert_to_spaCyformat(df_tagged, annotations)"
   ]
  },
  {
   "cell_type": "code",
   "execution_count": 7,
   "metadata": {
    "colab": {
     "base_uri": "https://localhost:8080/",
     "height": 615
    },
    "colab_type": "code",
    "executionInfo": {
     "elapsed": 1019,
     "status": "ok",
     "timestamp": 1599576148371,
     "user": {
      "displayName": "Reza Dwi Utomo",
      "photoUrl": "https://lh3.googleusercontent.com/a-/AOh14GjuLhy_JmgD4iWFIjOE-G6ClGlqtizVTS9lhAZQ=s64",
      "userId": "08330585941225764736"
     },
     "user_tz": -420
    },
    "id": "vpSB_45SKvki",
    "outputId": "7349d76d-53d0-45b6-ef3b-d4ce6e25dfc4"
   },
   "outputs": [
    {
     "data": {
      "text/plain": [
       "[\"SEMARANG, KOMPAS.com - Dinas Kesehatan Jawa Tengah menyebut ada 40 orang di Jawa Tengah yang meninggal dunia akibat terserang penyakit demam berdarah dengue (DBD) selama kurun waktu tiga bulan terakhir. Ancaman penyakit yang disebabkan oleh gigitan nyamuk Aedes aegypty itu menunjukkan angka kematian yang lebih tinggi dibandingkan Covid-19 di periode yang sama. Kepala Dinkes Jateng Yulianto Prabowo menyebutkan, di wilayah Jawa Tengah ditemukan demam berdarah sebanyak 2.115 kasus DBD yang tersebar merata di 35 kabupaten/kota. ``Kasus paling banyak ditemukan di Cilacap yakni 216, dengan jumlah meninggal dunia 3 orang. Lalu, Kota Semarang dengan 154 kasus, meninggal 2 orang. Kemudian Jepara dengan 136 kasus, meninggal 1 orang,' ujar Yulianto di Semarang, Kamis (16/4/2020). Lebih lanjut, jumlah warga yang terserang DBD di Kabupaten Banjarnegara mencapai 62 orang, 3 di antaranya meninggal dunia. Sedangkan, Banyumas terdapat 132 kasus, 3 orang di antaranya meninggal dunia. Klaten ada 131 kasus dan 3 orang meninggal dunia, Kebumen 124 kasus dan 4 orang meninggal, Purbalingga 99 yang meninggal 2 orang, dan Brebes dengan 87 kasus, meninggal 2 orang. ``Kasus demam berdarah di Jateng ini memang selalu terjadi dan tersebar merata. Apalagi kita ini hidup di negara tropis, yang menjadi endemis demam berdarah,' ungkapnya.                                                                                                                                                                                                                                       \",\n",
       " {'entities': [(0, 8, 'lokasi'),\n",
       "   (39, 50, 'lokasi'),\n",
       "   (64, 72, 'korban'),\n",
       "   (76, 87, 'lokasi'),\n",
       "   (135, 156, 'penyakit'),\n",
       "   (158, 161, 'penyakit'),\n",
       "   (425, 436, 'lokasi'),\n",
       "   (447, 461, 'penyakit'),\n",
       "   (471, 482, 'korban'),\n",
       "   (483, 486, 'lokasi'),\n",
       "   (565, 572, 'lokasi'),\n",
       "   (579, 582, 'korban'),\n",
       "   (614, 621, 'korban'),\n",
       "   (634, 642, 'lokasi'),\n",
       "   (650, 659, 'korban'),\n",
       "   (671, 678, 'korban'),\n",
       "   (703, 712, 'korban'),\n",
       "   (724, 731, 'korban'),\n",
       "   (751, 759, 'lokasi'),\n",
       "   (761, 766, 'waktu'),\n",
       "   (768, 777, 'waktu'),\n",
       "   (822, 825, 'penyakit'),\n",
       "   (829, 851, 'lokasi'),\n",
       "   (861, 869, 'korban'),\n",
       "   (914, 922, 'lokasi'),\n",
       "   (932, 941, 'korban'),\n",
       "   (981, 987, 'lokasi'),\n",
       "   (992, 1001, 'korban'),\n",
       "   (1031, 1038, 'lokasi'),\n",
       "   (1039, 1048, 'korban'),\n",
       "   (1072, 1083, 'lokasi'),\n",
       "   (1084, 1086, 'korban'),\n",
       "   (1115, 1121, 'lokasi'),\n",
       "   (1129, 1137, 'korban'),\n",
       "   (1166, 1180, 'penyakit'),\n",
       "   (1300, 1314, 'penyakit')]}]"
      ]
     },
     "execution_count": 7,
     "metadata": {},
     "output_type": "execute_result"
    }
   ],
   "source": [
    "    train_data"
   ]
  },
  {
   "cell_type": "markdown",
   "metadata": {
    "colab_type": "text",
    "id": "TirVi5vXCZRF"
   },
   "source": [
    "# Training"
   ]
  },
  {
   "cell_type": "code",
   "execution_count": 8,
   "metadata": {
    "colab": {},
    "colab_type": "code",
    "executionInfo": {
     "elapsed": 1616,
     "status": "ok",
     "timestamp": 1599576366899,
     "user": {
      "displayName": "Reza Dwi Utomo",
      "photoUrl": "https://lh3.googleusercontent.com/a-/AOh14GjuLhy_JmgD4iWFIjOE-G6ClGlqtizVTS9lhAZQ=s64",
      "userId": "08330585941225764736"
     },
     "user_tz": -420
    },
    "id": "i0WyNjrXLiOm"
   },
   "outputs": [],
   "source": [
    "# import the function to train using spaCy\n",
    "from train_spacy import train_spacy"
   ]
  },
  {
   "cell_type": "code",
   "execution_count": 9,
   "metadata": {
    "colab": {
     "base_uri": "https://localhost:8080/",
     "height": 1000
    },
    "colab_type": "code",
    "executionInfo": {
     "elapsed": 29702,
     "status": "ok",
     "timestamp": 1599576504468,
     "user": {
      "displayName": "Reza Dwi Utomo",
      "photoUrl": "https://lh3.googleusercontent.com/a-/AOh14GjuLhy_JmgD4iWFIjOE-G6ClGlqtizVTS9lhAZQ=s64",
      "userId": "08330585941225764736"
     },
     "user_tz": -420
    },
    "id": "zbQVGfzvLlgc",
    "outputId": "e87c180f-ba8c-4b38-855f-2fe43810d9b8",
    "scrolled": true
   },
   "outputs": [
    {
     "name": "stderr",
     "output_type": "stream",
     "text": [
      "/home/flaster/venv/venv-project/lib/python3.6/site-packages/spacy/language.py:639: UserWarning: [W033] Training a new parser or NER using a model with no lexeme normalization table. This may degrade the performance of the model to some degree. If this is intentional or the language you're using doesn't have a normalization table, please ignore this warning. If this is surprising, make sure you have the spacy-lookups-data package installed. The languages with lexeme normalization tables are currently: da, de, el, en, id, lb, pt, ru, sr, ta, th.\n",
      "  **kwargs\n"
     ]
    },
    {
     "name": "stdout",
     "output_type": "stream",
     "text": [
      "Starting iteration 0\n"
     ]
    },
    {
     "name": "stderr",
     "output_type": "stream",
     "text": [
      "/home/flaster/venv/venv-project/lib/python3.6/site-packages/spacy/language.py:482: UserWarning: [W030] Some entities could not be aligned in the text \"MATARAM, KOMPAS.com - Kepala Dinas Kesehatan Nusa ...\" with entities \"[(0, 7, 'lokasi'), (45, 64, 'lokasi'), (66, 69, 'l...\". Use `spacy.gold.biluo_tags_from_offsets(nlp.make_doc(text), entities)` to check the alignment. Misaligned entities ('-') will be ignored during training.\n",
      "  gold = GoldParse(doc, **gold)\n"
     ]
    },
    {
     "name": "stdout",
     "output_type": "stream",
     "text": [
      "{'ner': 12963.334655761719}\n",
      "Starting iteration 1\n",
      "{'ner': 13106.626525878906}\n",
      "Starting iteration 2\n",
      "{'ner': 12614.712219238281}\n",
      "Starting iteration 3\n",
      "{'ner': 11146.263671875}\n",
      "Starting iteration 4\n",
      "{'ner': 7236.032020568848}\n",
      "Starting iteration 5\n",
      "{'ner': 2682.406234741211}\n",
      "Starting iteration 6\n",
      "{'ner': 2423.6400756835938}\n",
      "Starting iteration 7\n",
      "{'ner': 2434.954469680786}\n",
      "Starting iteration 8\n",
      "{'ner': 2447.764591217041}\n",
      "Starting iteration 9\n",
      "{'ner': 2485.5803298950195}\n",
      "Starting iteration 10\n",
      "{'ner': 2380.613140106201}\n",
      "Starting iteration 11\n",
      "{'ner': 2298.9348678588867}\n",
      "Starting iteration 12\n",
      "{'ner': 2164.181558609009}\n",
      "Starting iteration 13\n",
      "{'ner': 2499.884006500244}\n",
      "Starting iteration 14\n",
      "{'ner': 2418.7213020324707}\n",
      "Starting iteration 15\n",
      "{'ner': 2433.869336128235}\n",
      "Starting iteration 16\n",
      "{'ner': 2075.7830848693848}\n",
      "Starting iteration 17\n",
      "{'ner': 2108.548988342285}\n",
      "Starting iteration 18\n",
      "{'ner': 2035.8463249206543}\n",
      "Starting iteration 19\n",
      "{'ner': 1966.3463020324707}\n",
      "Starting iteration 20\n",
      "{'ner': 1774.1780881881714}\n",
      "Starting iteration 21\n",
      "{'ner': 1866.8552494049072}\n",
      "Starting iteration 22\n",
      "{'ner': 2180.853515625}\n",
      "Starting iteration 23\n",
      "{'ner': 2597.307544708252}\n",
      "Starting iteration 24\n",
      "{'ner': 2871.2406845092773}\n",
      "Starting iteration 25\n",
      "{'ner': 2830.409225463867}\n",
      "Starting iteration 26\n",
      "{'ner': 2588.2459106445312}\n",
      "Starting iteration 27\n",
      "{'ner': 2269.6657218933105}\n",
      "Starting iteration 28\n",
      "{'ner': 1934.989312171936}\n",
      "Starting iteration 29\n",
      "{'ner': 1891.3829803466797}\n",
      "Starting iteration 30\n",
      "{'ner': 1798.4855861663818}\n",
      "Starting iteration 31\n",
      "{'ner': 1763.3818912506104}\n",
      "Starting iteration 32\n",
      "{'ner': 1703.7618827819824}\n",
      "Starting iteration 33\n",
      "{'ner': 1555.5816812515259}\n",
      "Starting iteration 34\n",
      "{'ner': 1505.30735206604}\n",
      "Starting iteration 35\n",
      "{'ner': 1609.392168045044}\n",
      "Starting iteration 36\n",
      "{'ner': 1827.4817199707031}\n",
      "Starting iteration 37\n",
      "{'ner': 1951.1767330169678}\n",
      "Starting iteration 38\n",
      "{'ner': 1907.3505630493164}\n",
      "Starting iteration 39\n",
      "{'ner': 1786.4763050079346}\n",
      "Starting iteration 40\n",
      "{'ner': 1718.0221939086914}\n",
      "Starting iteration 41\n",
      "{'ner': 1647.746865272522}\n",
      "Starting iteration 42\n",
      "{'ner': 1617.4502668380737}\n",
      "Starting iteration 43\n",
      "{'ner': 1668.8359174728394}\n",
      "Starting iteration 44\n",
      "{'ner': 1864.5419960021973}\n",
      "Starting iteration 45\n",
      "{'ner': 3433.5136756896973}\n",
      "Starting iteration 46\n",
      "{'ner': 4027.2692852020264}\n",
      "Starting iteration 47\n",
      "{'ner': 3680.371657371521}\n",
      "Starting iteration 48\n",
      "{'ner': 2210.1206607818604}\n",
      "Starting iteration 49\n",
      "{'ner': 1724.371464729309}\n",
      "Starting iteration 50\n",
      "{'ner': 1445.2011489868164}\n",
      "Starting iteration 51\n",
      "{'ner': 1385.9504623413086}\n",
      "Starting iteration 52\n",
      "{'ner': 1587.9419708251953}\n",
      "Starting iteration 53\n",
      "{'ner': 1470.2286739349365}\n",
      "Starting iteration 54\n",
      "{'ner': 1476.0494956970215}\n",
      "Starting iteration 55\n",
      "{'ner': 1195.157464981079}\n",
      "Starting iteration 56\n",
      "{'ner': 1138.4892406463623}\n",
      "Starting iteration 57\n",
      "{'ner': 1320.52184009552}\n",
      "Starting iteration 58\n",
      "{'ner': 915.9462270736694}\n",
      "Starting iteration 59\n",
      "{'ner': 741.891035079956}\n",
      "Starting iteration 60\n",
      "{'ner': 693.7704882621765}\n",
      "Starting iteration 61\n",
      "{'ner': 694.5090293884277}\n",
      "Starting iteration 62\n",
      "{'ner': 672.0339705944061}\n",
      "Starting iteration 63\n",
      "{'ner': 594.6115045547485}\n",
      "Starting iteration 64\n",
      "{'ner': 569.5259264707565}\n",
      "Starting iteration 65\n",
      "{'ner': 529.2655191421509}\n",
      "Starting iteration 66\n",
      "{'ner': 546.6537455320358}\n",
      "Starting iteration 67\n",
      "{'ner': 489.6255145072937}\n",
      "Starting iteration 68\n",
      "{'ner': 446.3692226409912}\n",
      "Starting iteration 69\n",
      "{'ner': 377.87017822265625}\n",
      "Starting iteration 70\n",
      "{'ner': 327.04489278793335}\n",
      "Starting iteration 71\n",
      "{'ner': 296.55883407592773}\n",
      "Starting iteration 72\n",
      "{'ner': 388.27345037460327}\n",
      "Starting iteration 73\n",
      "{'ner': 391.43472385406494}\n",
      "Starting iteration 74\n",
      "{'ner': 452.93768948316574}\n",
      "Starting iteration 75\n",
      "{'ner': 463.00935554504395}\n",
      "Starting iteration 76\n",
      "{'ner': 435.34410572052}\n",
      "Starting iteration 77\n",
      "{'ner': 369.49221634864807}\n",
      "Starting iteration 78\n",
      "{'ner': 308.7326135635376}\n",
      "Starting iteration 79\n",
      "{'ner': 251.63034570217133}\n",
      "Starting iteration 80\n",
      "{'ner': 218.1135372519493}\n",
      "Starting iteration 81\n",
      "{'ner': 250.36400246620178}\n",
      "Starting iteration 82\n",
      "{'ner': 246.89206063747406}\n",
      "Starting iteration 83\n",
      "{'ner': 220.35669092833996}\n",
      "Starting iteration 84\n",
      "{'ner': 150.9944064617157}\n",
      "Starting iteration 85\n",
      "{'ner': 109.87981724739075}\n",
      "Starting iteration 86\n",
      "{'ner': 84.62729826569557}\n",
      "Starting iteration 87\n",
      "{'ner': 67.38780762255192}\n",
      "Starting iteration 88\n",
      "{'ner': 69.93136809766293}\n",
      "Starting iteration 89\n",
      "{'ner': 59.12053340673447}\n",
      "Starting iteration 90\n",
      "{'ner': 49.45145499706268}\n",
      "Starting iteration 91\n",
      "{'ner': 36.29138806462288}\n",
      "Starting iteration 92\n",
      "{'ner': 28.31252602627501}\n",
      "Starting iteration 93\n",
      "{'ner': 22.266163774766028}\n",
      "Starting iteration 94\n",
      "{'ner': 13.57994986185804}\n",
      "Starting iteration 95\n",
      "{'ner': 10.731981684744824}\n",
      "Starting iteration 96\n",
      "{'ner': 13.59289400826674}\n",
      "Starting iteration 97\n",
      "{'ner': 21.012178421020508}\n",
      "Starting iteration 98\n",
      "{'ner': 16.491778622497804}\n",
      "Starting iteration 99\n",
      "{'ner': 17.88644431019202}\n"
     ]
    }
   ],
   "source": [
    "# training model\n",
    "model, loss = train_spacy([train_data], 100)"
   ]
  },
  {
   "cell_type": "code",
   "execution_count": 10,
   "metadata": {
    "colab": {},
    "colab_type": "code",
    "executionInfo": {
     "elapsed": 845,
     "status": "ok",
     "timestamp": 1599576584358,
     "user": {
      "displayName": "Reza Dwi Utomo",
      "photoUrl": "https://lh3.googleusercontent.com/a-/AOh14GjuLhy_JmgD4iWFIjOE-G6ClGlqtizVTS9lhAZQ=s64",
      "userId": "08330585941225764736"
     },
     "user_tz": -420
    },
    "id": "JHGa7yOwMXTG"
   },
   "outputs": [],
   "source": [
    "from matplotlib import pyplot as plt"
   ]
  },
  {
   "cell_type": "code",
   "execution_count": 11,
   "metadata": {
    "colab": {
     "base_uri": "https://localhost:8080/",
     "height": 513
    },
    "colab_type": "code",
    "executionInfo": {
     "elapsed": 1093,
     "status": "ok",
     "timestamp": 1599576586791,
     "user": {
      "displayName": "Reza Dwi Utomo",
      "photoUrl": "https://lh3.googleusercontent.com/a-/AOh14GjuLhy_JmgD4iWFIjOE-G6ClGlqtizVTS9lhAZQ=s64",
      "userId": "08330585941225764736"
     },
     "user_tz": -420
    },
    "id": "587JQqncLuys",
    "outputId": "88abd6fe-d847-4568-f115-7739d5e4b447"
   },
   "outputs": [
    {
     "data": {
      "image/png": "[encoded data removed]",
      "text/plain": [
       "<Figure size 864x576 with 1 Axes>"
      ]
     },
     "metadata": {
      "needs_background": "light"
     },
     "output_type": "display_data"
    }
   ],
   "source": [
    "plt.figure(figsize=(12,8))\n",
    "plt.plot([i['ner'] for i in loss])\n",
    "plt.grid()\n",
    "plt.title('Loss Function')\n",
    "plt.xlabel('Epoch')\n",
    "plt.ylabel('Loss')\n",
    "plt.show()"
   ]
  },
  {
   "cell_type": "code",
   "execution_count": 12,
   "metadata": {
    "colab": {
     "base_uri": "https://localhost:8080/",
     "height": 34
    },
    "colab_type": "code",
    "executionInfo": {
     "elapsed": 8516,
     "status": "ok",
     "timestamp": 1599576735057,
     "user": {
      "displayName": "Reza Dwi Utomo",
      "photoUrl": "https://lh3.googleusercontent.com/a-/AOh14GjuLhy_JmgD4iWFIjOE-G6ClGlqtizVTS9lhAZQ=s64",
      "userId": "08330585941225764736"
     },
     "user_tz": -420
    },
    "id": "imq52WlkMdkm",
    "outputId": "1eae6b3a-e8b5-41dc-88ba-73650c033926"
   },
   "outputs": [],
   "source": [
    "# Save our trained model\n",
    "# link_save_model = \"/\"\n",
    "# modelfile = input(\"Enter your Model Name: \")\n",
    "model.to_disk(\"finalModel1\")"
   ]
  },
  {
   "cell_type": "markdown",
   "metadata": {
    "colab_type": "text",
    "id": "BbIWm9aLNBvh"
   },
   "source": [
    "# Evaluation"
   ]
  },
  {
   "cell_type": "code",
   "execution_count": 8,
   "metadata": {
    "colab": {},
    "colab_type": "code",
    "executionInfo": {
     "elapsed": 610,
     "status": "ok",
     "timestamp": 1599577146728,
     "user": {
      "displayName": "Reza Dwi Utomo",
      "photoUrl": "https://lh3.googleusercontent.com/a-/AOh14GjuLhy_JmgD4iWFIjOE-G6ClGlqtizVTS9lhAZQ=s64",
      "userId": "08330585941225764736"
     },
     "user_tz": -420
    },
    "id": "Y3Aj63uPNV4v"
   },
   "outputs": [],
   "source": [
    "# import package for displaying NER results\n",
    "from spacy import load, displacy"
   ]
  },
  {
   "cell_type": "code",
   "execution_count": 9,
   "metadata": {
    "colab": {},
    "colab_type": "code",
    "executionInfo": {
     "elapsed": 37632,
     "status": "ok",
     "timestamp": 1599576869607,
     "user": {
      "displayName": "Reza Dwi Utomo",
      "photoUrl": "https://lh3.googleusercontent.com/a-/AOh14GjuLhy_JmgD4iWFIjOE-G6ClGlqtizVTS9lhAZQ=s64",
      "userId": "08330585941225764736"
     },
     "user_tz": -420
    },
    "id": "oUGkaSshNDVe"
   },
   "outputs": [],
   "source": [
    "# import model\n",
    "link_to_model = \"finalModel1\"\n",
    "loaded_model = load(link_to_model)"
   ]
  },
  {
   "cell_type": "code",
   "execution_count": 3,
   "metadata": {
    "colab": {},
    "colab_type": "code",
    "executionInfo": {
     "elapsed": 877,
     "status": "ok",
     "timestamp": 1599577068138,
     "user": {
      "displayName": "Reza Dwi Utomo",
      "photoUrl": "https://lh3.googleusercontent.com/a-/AOh14GjuLhy_JmgD4iWFIjOE-G6ClGlqtizVTS9lhAZQ=s64",
      "userId": "08330585941225764736"
     },
     "user_tz": -420
    },
    "id": "tpPMuVumODdq"
   },
   "outputs": [],
   "source": [
    "# text source: 'https://www.antaranews.com/berita/1584798/erick-tetapkan-akhlak-sebagai-core-value-bumn'\n",
    "test_text = \"\"\"KARAWANG, KOMPAS.com - Kasus Demam Berdarah Dengue (DBD) dan kusta di Karawang pada April 2020 sebanyak 154 orang. Meningkat tiga kali lipat dari Maret 2020. Hal itu dikatakan Pelaksana tugas (Plt) Kepala Dinas Kesehatan Kabupaten Karawang Nanik Jojana. Ia mengatakan, kasus DBD di Karawang sepanjang Januari hingga April 2020 cenderung meningkat. \"Januari ada 18, Februari ada 47, Maret 45, dan April sangat tinggi,154. (Sementara) Mei saya belum tahu ada berapa tapi meninggal satu,\" kata Nanik di Posko Gugus Tugas Percepatan Penanganan Covid-19 Karawang, Senin (11/5/2020).\"\"\""
   ]
  },
  {
   "cell_type": "code",
   "execution_count": 5,
   "metadata": {},
   "outputs": [],
   "source": [
    "from entities_option import get_entity_options\n",
    "options = get_entity_options()"
   ]
  },
  {
   "cell_type": "code",
   "execution_count": 6,
   "metadata": {
    "colab": {
     "base_uri": "https://localhost:8080/",
     "height": 681
    },
    "colab_type": "code",
    "executionInfo": {
     "elapsed": 844,
     "status": "ok",
     "timestamp": 1599577149327,
     "user": {
      "displayName": "Reza Dwi Utomo",
      "photoUrl": "https://lh3.googleusercontent.com/a-/AOh14GjuLhy_JmgD4iWFIjOE-G6ClGlqtizVTS9lhAZQ=s64",
      "userId": "08330585941225764736"
     },
     "user_tz": -420
    },
    "id": "DZTglvWYORu-",
    "outputId": "e99903b0-d308-4ee5-aff9-afbe7f7cfd9d",
    "scrolled": false
   },
   "outputs": [
    {
     "data": {
      "text/html": [
       "<span class=\"tex2jax_ignore\"><div class=\"entities\" style=\"line-height: 2.5; direction: ltr\">\n",
       "<mark class=\"entity\" style=\"background: #F7DC6F; padding: 0.45em 0.6em; margin: 0 0.25em; line-height: 1; border-radius: 0.35em;\">\n",
       "    KARAWANG\n",
       "    <span style=\"font-size: 0.8em; font-weight: bold; line-height: 1; border-radius: 0.35em; text-transform: uppercase; vertical-align: middle; margin-left: 0.5rem\">lokasi</span>\n",
       "</mark>\n",
       ", KOMPAS.com - \n",
       "<mark class=\"entity\" style=\"background: #F9E79F; padding: 0.45em 0.6em; margin: 0 0.25em; line-height: 1; border-radius: 0.35em;\">\n",
       "    Kasus\n",
       "    <span style=\"font-size: 0.8em; font-weight: bold; line-height: 1; border-radius: 0.35em; text-transform: uppercase; vertical-align: middle; margin-left: 0.5rem\">korban</span>\n",
       "</mark>\n",
       " \n",
       "<mark class=\"entity\" style=\"background: #F4D03F; padding: 0.45em 0.6em; margin: 0 0.25em; line-height: 1; border-radius: 0.35em;\">\n",
       "    Demam Berdarah Dengue\n",
       "    <span style=\"font-size: 0.8em; font-weight: bold; line-height: 1; border-radius: 0.35em; text-transform: uppercase; vertical-align: middle; margin-left: 0.5rem\">penyakit</span>\n",
       "</mark>\n",
       " (\n",
       "<mark class=\"entity\" style=\"background: #F4D03F; padding: 0.45em 0.6em; margin: 0 0.25em; line-height: 1; border-radius: 0.35em;\">\n",
       "    DBD\n",
       "    <span style=\"font-size: 0.8em; font-weight: bold; line-height: 1; border-radius: 0.35em; text-transform: uppercase; vertical-align: middle; margin-left: 0.5rem\">penyakit</span>\n",
       "</mark>\n",
       ") dan \n",
       "<mark class=\"entity\" style=\"background: #F4D03F; padding: 0.45em 0.6em; margin: 0 0.25em; line-height: 1; border-radius: 0.35em;\">\n",
       "    kusta\n",
       "    <span style=\"font-size: 0.8em; font-weight: bold; line-height: 1; border-radius: 0.35em; text-transform: uppercase; vertical-align: middle; margin-left: 0.5rem\">penyakit</span>\n",
       "</mark>\n",
       " di \n",
       "<mark class=\"entity\" style=\"background: #F7DC6F; padding: 0.45em 0.6em; margin: 0 0.25em; line-height: 1; border-radius: 0.35em;\">\n",
       "    Karawang\n",
       "    <span style=\"font-size: 0.8em; font-weight: bold; line-height: 1; border-radius: 0.35em; text-transform: uppercase; vertical-align: middle; margin-left: 0.5rem\">lokasi</span>\n",
       "</mark>\n",
       " pada April 2020 sebanyak \n",
       "<mark class=\"entity\" style=\"background: #F9E79F; padding: 0.45em 0.6em; margin: 0 0.25em; line-height: 1; border-radius: 0.35em;\">\n",
       "    154 orang\n",
       "    <span style=\"font-size: 0.8em; font-weight: bold; line-height: 1; border-radius: 0.35em; text-transform: uppercase; vertical-align: middle; margin-left: 0.5rem\">korban</span>\n",
       "</mark>\n",
       ". Meningkat tiga kali lipat dari Maret 2020. Hal itu dikatakan Pelaksana tugas (Plt) Kepala Dinas Kesehatan \n",
       "<mark class=\"entity\" style=\"background: #F7DC6F; padding: 0.45em 0.6em; margin: 0 0.25em; line-height: 1; border-radius: 0.35em;\">\n",
       "    Kabupaten Karawang\n",
       "    <span style=\"font-size: 0.8em; font-weight: bold; line-height: 1; border-radius: 0.35em; text-transform: uppercase; vertical-align: middle; margin-left: 0.5rem\">lokasi</span>\n",
       "</mark>\n",
       " Nanik Jojana. Ia mengatakan, \n",
       "<mark class=\"entity\" style=\"background: #F9E79F; padding: 0.45em 0.6em; margin: 0 0.25em; line-height: 1; border-radius: 0.35em;\">\n",
       "    kasus\n",
       "    <span style=\"font-size: 0.8em; font-weight: bold; line-height: 1; border-radius: 0.35em; text-transform: uppercase; vertical-align: middle; margin-left: 0.5rem\">korban</span>\n",
       "</mark>\n",
       " \n",
       "<mark class=\"entity\" style=\"background: #F4D03F; padding: 0.45em 0.6em; margin: 0 0.25em; line-height: 1; border-radius: 0.35em;\">\n",
       "    DBD\n",
       "    <span style=\"font-size: 0.8em; font-weight: bold; line-height: 1; border-radius: 0.35em; text-transform: uppercase; vertical-align: middle; margin-left: 0.5rem\">penyakit</span>\n",
       "</mark>\n",
       " di \n",
       "<mark class=\"entity\" style=\"background: #F7DC6F; padding: 0.45em 0.6em; margin: 0 0.25em; line-height: 1; border-radius: 0.35em;\">\n",
       "    Karawang\n",
       "    <span style=\"font-size: 0.8em; font-weight: bold; line-height: 1; border-radius: 0.35em; text-transform: uppercase; vertical-align: middle; margin-left: 0.5rem\">lokasi</span>\n",
       "</mark>\n",
       " sepanjang Januari hingga April 2020 cenderung meningkat. &quot;Januari ada \n",
       "<mark class=\"entity\" style=\"background: #F9E79F; padding: 0.45em 0.6em; margin: 0 0.25em; line-height: 1; border-radius: 0.35em;\">\n",
       "    18\n",
       "    <span style=\"font-size: 0.8em; font-weight: bold; line-height: 1; border-radius: 0.35em; text-transform: uppercase; vertical-align: middle; margin-left: 0.5rem\">korban</span>\n",
       "</mark>\n",
       ", Februari ada \n",
       "<mark class=\"entity\" style=\"background: #F9E79F; padding: 0.45em 0.6em; margin: 0 0.25em; line-height: 1; border-radius: 0.35em;\">\n",
       "    47\n",
       "    <span style=\"font-size: 0.8em; font-weight: bold; line-height: 1; border-radius: 0.35em; text-transform: uppercase; vertical-align: middle; margin-left: 0.5rem\">korban</span>\n",
       "</mark>\n",
       ", Maret \n",
       "<mark class=\"entity\" style=\"background: #F9E79F; padding: 0.45em 0.6em; margin: 0 0.25em; line-height: 1; border-radius: 0.35em;\">\n",
       "    45\n",
       "    <span style=\"font-size: 0.8em; font-weight: bold; line-height: 1; border-radius: 0.35em; text-transform: uppercase; vertical-align: middle; margin-left: 0.5rem\">korban</span>\n",
       "</mark>\n",
       ", dan April sangat tinggi,154. (Sementara) Mei saya belum tahu ada berapa tapi meninggal satu,&quot; kata Nanik di Posko Gugus Tugas Percepatan Penanganan Covid-19 \n",
       "<mark class=\"entity\" style=\"background: #F7DC6F; padding: 0.45em 0.6em; margin: 0 0.25em; line-height: 1; border-radius: 0.35em;\">\n",
       "    Karawang\n",
       "    <span style=\"font-size: 0.8em; font-weight: bold; line-height: 1; border-radius: 0.35em; text-transform: uppercase; vertical-align: middle; margin-left: 0.5rem\">lokasi</span>\n",
       "</mark>\n",
       ", Senin (\n",
       "<mark class=\"entity\" style=\"background: #FAD7A0; padding: 0.45em 0.6em; margin: 0 0.25em; line-height: 1; border-radius: 0.35em;\">\n",
       "    11/5/2020\n",
       "    <span style=\"font-size: 0.8em; font-weight: bold; line-height: 1; border-radius: 0.35em; text-transform: uppercase; vertical-align: middle; margin-left: 0.5rem\">waktu</span>\n",
       "</mark>\n",
       ").</div></span>"
      ],
      "text/plain": [
       "<IPython.core.display.HTML object>"
      ]
     },
     "metadata": {},
     "output_type": "display_data"
    }
   ],
   "source": [
    "doc = loaded_model(test_text)\n",
    "displacy.render(doc, style=\"ent\", options = options)"
   ]
  },
  {
   "cell_type": "code",
   "execution_count": 37,
   "metadata": {
    "colab": {
     "base_uri": "https://localhost:8080/",
     "height": 86
    },
    "colab_type": "code",
    "executionInfo": {
     "elapsed": 889,
     "status": "ok",
     "timestamp": 1599577295707,
     "user": {
      "displayName": "Reza Dwi Utomo",
      "photoUrl": "https://lh3.googleusercontent.com/a-/AOh14GjuLhy_JmgD4iWFIjOE-G6ClGlqtizVTS9lhAZQ=s64",
      "userId": "08330585941225764736"
     },
     "user_tz": -420
    },
    "id": "y7dT4QcTOwjo",
    "outputId": "3aa8d7e1-a1ee-4320-fa4a-bcbc9f635a21",
    "scrolled": true
   },
   "outputs": [
    {
     "data": {
      "text/plain": [
       "'KARAWANG, KOMPAS.com - Kasus Demam Berdarah Dengue (DBD) di Karawang pada April 2020 sebanyak 154 orang. Meningkat tiga kali lipat dari Maret 2020. Hal itu dikatakan Pelaksana tugas (Plt) Kepala Dinas Kesehatan Kabupaten Karawang Nanik Jojana. Ia mengatakan, kasus DBD di Karawang sepanjang Januari hingga April 2020 cenderung meningkat. \"Januari ada 18, Februari ada 47, Maret 45, dan April sangat tinggi,154. (Sementara) Mei saya belum tahu ada berapa tapi meninggal satu,\" kata Nanik di Posko Gugus Tugas Percepatan Penanganan Covid-19 Karawang, Senin (11/5/2020).'"
      ]
     },
     "execution_count": 37,
     "metadata": {},
     "output_type": "execute_result"
    }
   ],
   "source": [
    "test_text"
   ]
  },
  {
   "cell_type": "code",
   "execution_count": 17,
   "metadata": {
    "colab": {
     "base_uri": "https://localhost:8080/",
     "height": 306
    },
    "colab_type": "code",
    "executionInfo": {
     "elapsed": 873,
     "status": "ok",
     "timestamp": 1599577301189,
     "user": {
      "displayName": "Reza Dwi Utomo",
      "photoUrl": "https://lh3.googleusercontent.com/a-/AOh14GjuLhy_JmgD4iWFIjOE-G6ClGlqtizVTS9lhAZQ=s64",
      "userId": "08330585941225764736"
     },
     "user_tz": -420
    },
    "id": "krXAHIg0PJM3",
    "outputId": "befa1d5c-4749-4099-94d9-ebfdfe9ec75f",
    "scrolled": false
   },
   "outputs": [
    {
     "name": "stdout",
     "output_type": "stream",
     "text": [
      "KARAWANG 0 8 lokasi\n",
      "Kasus 23 28 korban\n",
      "Demam Berdarah Dengue 29 50 penyakit\n",
      "DBD 52 55 penyakit\n",
      "kusta 61 66 penyakit\n",
      "Karawang 70 78 lokasi\n",
      "154 orang 104 113 korban\n",
      "Kabupaten Karawang 221 239 lokasi\n",
      "kasus 269 274 korban\n",
      "DBD 275 278 penyakit\n",
      "Karawang 282 290 lokasi\n",
      "18 361 363 korban\n",
      "47 378 380 korban\n",
      "45 388 390 korban\n",
      "Karawang 549 557 lokasi\n",
      "11/5/2020 566 575 waktu\n",
      "\n",
      " =============== \n",
      "\n",
      "\n",
      "ini lokasi\n",
      " ['KARAWANG', 'Karawang', 'Kabupaten Karawang', 'Karawang', 'Karawang']\n",
      "\n",
      "ini korban\n",
      " ['Kasus', '154 orang', 'kasus', '18', '47', '45']\n",
      "\n",
      "ini penyakit\n",
      " ['Demam Berdarah Dengue', 'DBD', 'kusta', 'DBD']\n",
      "\n",
      "ini waktu\n",
      " ['11/5/2020']\n"
     ]
    }
   ],
   "source": [
    "for ent in doc.ents:\n",
    "    print(ent.text, ent.start_char, ent.end_char, ent.label_)\n",
    "\n",
    "print(\"\\n =============== \\n\")\n",
    "lokasi = [] \n",
    "korban = []\n",
    "penyakit = []\n",
    "waktu = []\n",
    "for ent in doc.ents:\n",
    "    if ent.label_ == \"lokasi\":\n",
    "#         print(\"True\")\n",
    "        lokasi.append(str(ent.text))\n",
    "    elif ent.label_ == \"korban\":\n",
    "        korban.append(str(ent.text))\n",
    "    elif ent.label_ == \"penyakit\":\n",
    "        penyakit.append(str(ent.text))\n",
    "    elif ent.label_ == \"waktu\":\n",
    "        waktu.append(str(ent.text))\n",
    "\n",
    "print(\"\\nini lokasi\\n\", lokasi)\n",
    "print(\"\\nini korban\\n\", korban)\n",
    "print(\"\\nini penyakit\\n\", penyakit)\n",
    "print(\"\\nini waktu\\n\", waktu)"
   ]
  },
  {
   "cell_type": "code",
   "execution_count": 39,
   "metadata": {},
   "outputs": [
    {
     "data": {
      "text/plain": [
       "KARAWANG, KOMPAS.com - Kasus Demam Berdarah Dengue (DBD) di Karawang pada April 2020 sebanyak 154 orang. Meningkat tiga kali lipat dari Maret 2020. Hal itu dikatakan Pelaksana tugas (Plt) Kepala Dinas Kesehatan Kabupaten Karawang Nanik Jojana. Ia mengatakan, kasus DBD di Karawang sepanjang Januari hingga April 2020 cenderung meningkat. \"Januari ada 18, Februari ada 47, Maret 45, dan April sangat tinggi,154. (Sementara) Mei saya belum tahu ada berapa tapi meninggal satu,\" kata Nanik di Posko Gugus Tugas Percepatan Penanganan Covid-19 Karawang, Senin (11/5/2020)."
      ]
     },
     "execution_count": 39,
     "metadata": {},
     "output_type": "execute_result"
    }
   ],
   "source": [
    "doc"
   ]
  },
  {
   "cell_type": "code",
   "execution_count": 3,
   "metadata": {},
   "outputs": [],
   "source": [
    "import spacy\n",
    "from spacy.gold import GoldParse\n",
    "from spacy.scorer import Scorer"
   ]
  },
  {
   "cell_type": "code",
   "execution_count": 14,
   "metadata": {},
   "outputs": [],
   "source": [
    "def evaluate(ner_model, examples):\n",
    "    scorer = Scorer()\n",
    "    for input_, annot in examples:\n",
    "        doc_gold_text = ner_model.make_doc(input_)\n",
    "        gold = GoldParse(doc_gold_text, entities=annot)\n",
    "        pred_value = ner_model(input_)\n",
    "        scorer.score(pred_value, gold)\n",
    "    return scorer.scores"
   ]
  },
  {
   "cell_type": "code",
   "execution_count": 18,
   "metadata": {},
   "outputs": [],
   "source": [
    "examples = [\n",
    "    ('KARAWANG, KOMPAS.com  Kasus Demam Berdarah Dengue (DBD) di Karawang pada April 2020 sebanyak 154 orang. Meningkat tiga kali lipat dari Maret 2020. Hal itu dikatakan Pelaksana tugas (Plt) Kepala Dinas Kesehatan Kabupaten Karawang Nanik Jojana. Ia mengatakan, kasus DBD Senin (11/5/2020).',\n",
    "     [(0, 8, 'lokasi'), (22, 27, 'korban'), (28, 49, 'penyakit'), (51, 54, 'penyakit'), (60, 65, 'penyakit'), (69, 77, 'lokasi'), (103, 112, 'korban'), (220, 238, 'lokasi'), (274, 277, 'penyakit')])\n",
    "]"
   ]
  },
  {
   "cell_type": "code",
   "execution_count": 29,
   "metadata": {},
   "outputs": [],
   "source": [
    "examplesLite = [\n",
    "    ('aku tinggal di bandung',\n",
    "     [(16, 22, 'lokasi')])\n",
    "]\n",
    "GOLD = [\n",
    "    (\"aku tinggal di bandung\", {\"entities\": [(16, 22, \"lokasi\")]}),\n",
    "]"
   ]
  },
  {
   "cell_type": "code",
   "execution_count": 30,
   "metadata": {},
   "outputs": [
    {
     "ename": "IndexError",
     "evalue": "list index out of range",
     "output_type": "error",
     "traceback": [
      "\u001b[0;31m---------------------------------------------------------------------------\u001b[0m",
      "\u001b[0;31mIndexError\u001b[0m                                Traceback (most recent call last)",
      "\u001b[0;32m<ipython-input-30-390314940914>\u001b[0m in \u001b[0;36m<module>\u001b[0;34m\u001b[0m\n\u001b[0;32m----> 1\u001b[0;31m \u001b[0mresults\u001b[0m \u001b[0;34m=\u001b[0m \u001b[0mevaluate\u001b[0m\u001b[0;34m(\u001b[0m\u001b[0mloaded_model\u001b[0m\u001b[0;34m,\u001b[0m \u001b[0mGOLD\u001b[0m\u001b[0;34m)\u001b[0m\u001b[0;34m\u001b[0m\u001b[0;34m\u001b[0m\u001b[0m\n\u001b[0m",
      "\u001b[0;32m<ipython-input-14-07ac263c7727>\u001b[0m in \u001b[0;36mevaluate\u001b[0;34m(ner_model, examples)\u001b[0m\n\u001b[1;32m      3\u001b[0m     \u001b[0;32mfor\u001b[0m \u001b[0minput_\u001b[0m\u001b[0;34m,\u001b[0m \u001b[0mannot\u001b[0m \u001b[0;32min\u001b[0m \u001b[0mexamples\u001b[0m\u001b[0;34m:\u001b[0m\u001b[0;34m\u001b[0m\u001b[0;34m\u001b[0m\u001b[0m\n\u001b[1;32m      4\u001b[0m         \u001b[0mdoc_gold_text\u001b[0m \u001b[0;34m=\u001b[0m \u001b[0mner_model\u001b[0m\u001b[0;34m.\u001b[0m\u001b[0mmake_doc\u001b[0m\u001b[0;34m(\u001b[0m\u001b[0minput_\u001b[0m\u001b[0;34m)\u001b[0m\u001b[0;34m\u001b[0m\u001b[0;34m\u001b[0m\u001b[0m\n\u001b[0;32m----> 5\u001b[0;31m         \u001b[0mgold\u001b[0m \u001b[0;34m=\u001b[0m \u001b[0mGoldParse\u001b[0m\u001b[0;34m(\u001b[0m\u001b[0mdoc_gold_text\u001b[0m\u001b[0;34m,\u001b[0m \u001b[0mentities\u001b[0m\u001b[0;34m=\u001b[0m\u001b[0mannot\u001b[0m\u001b[0;34m)\u001b[0m\u001b[0;34m\u001b[0m\u001b[0;34m\u001b[0m\u001b[0m\n\u001b[0m\u001b[1;32m      6\u001b[0m         \u001b[0mpred_value\u001b[0m \u001b[0;34m=\u001b[0m \u001b[0mner_model\u001b[0m\u001b[0;34m(\u001b[0m\u001b[0minput_\u001b[0m\u001b[0;34m)\u001b[0m\u001b[0;34m\u001b[0m\u001b[0;34m\u001b[0m\u001b[0m\n\u001b[1;32m      7\u001b[0m         \u001b[0mscorer\u001b[0m\u001b[0;34m.\u001b[0m\u001b[0mscore\u001b[0m\u001b[0;34m(\u001b[0m\u001b[0mpred_value\u001b[0m\u001b[0;34m,\u001b[0m \u001b[0mgold\u001b[0m\u001b[0;34m)\u001b[0m\u001b[0;34m\u001b[0m\u001b[0;34m\u001b[0m\u001b[0m\n",
      "\u001b[0;32mgold.pyx\u001b[0m in \u001b[0;36mspacy.gold.GoldParse.__init__\u001b[0;34m()\u001b[0m\n",
      "\u001b[0;31mIndexError\u001b[0m: list index out of range"
     ]
    }
   ],
   "source": [
    "results = evaluate(loaded_model, GOLD)"
   ]
  },
  {
   "cell_type": "code",
   "execution_count": 28,
   "metadata": {},
   "outputs": [
    {
     "data": {
      "text/plain": [
       "{'uas': 0.0,\n",
       " 'las': 0.0,\n",
       " 'las_per_type': {'': {'p': 0.0, 'r': 0.0, 'f': 0.0}},\n",
       " 'ents_p': 0.0,\n",
       " 'ents_r': 0.0,\n",
       " 'ents_f': 0.0,\n",
       " 'ents_per_type': {},\n",
       " 'tags_acc': 0.0,\n",
       " 'token_acc': 100.0,\n",
       " 'textcat_score': 0.0,\n",
       " 'textcats_per_cat': {}}"
      ]
     },
     "execution_count": 28,
     "metadata": {},
     "output_type": "execute_result"
    }
   ],
   "source": [
    "results"
   ]
  }
 ],
 "metadata": {
  "colab": {
   "authorship_tag": "ABX9TyOkFOWD8dzUWkrotpNZrxPS",
   "collapsed_sections": [],
   "mount_file_id": "148zgdDZwqngYnhROuxwfpvRK_13L-q_0",
   "name": "Untitled1.ipynb",
   "provenance": []
  },
  "kernelspec": {
   "display_name": "Python 3",
   "language": "python",
   "name": "python3"
  },
  "language_info": {
   "codemirror_mode": {
    "name": "ipython",
    "version": 3
   },
   "file_extension": ".py",
   "mimetype": "text/x-python",
   "name": "python",
   "nbconvert_exporter": "python",
   "pygments_lexer": "ipython3",
   "version": "3.6.9"
  }
 },
 "nbformat": 4,
 "nbformat_minor": 1
}
